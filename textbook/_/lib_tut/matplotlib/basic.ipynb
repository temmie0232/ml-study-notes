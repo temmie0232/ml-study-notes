{
 "cells": [
  {
   "cell_type": "code",
   "execution_count": null,
   "metadata": {},
   "outputs": [],
   "source": [
    "import matplotlib.pyplot as plt\n",
    "import japanize_matplotlib"
   ]
  },
  {
   "cell_type": "markdown",
   "metadata": {},
   "source": [
    "# 基本的なプロット関数"
   ]
  },
  {
   "cell_type": "code",
   "execution_count": null,
   "metadata": {},
   "outputs": [],
   "source": [
    "\"\"\"\n",
    "\n",
    "# 基本的な関数\n",
    "plt.plot()      # 線グラフ\n",
    "plt.scatter()   # 散布図\n",
    "plt.bar()       # 棒グラフ\n",
    "plt.hist()      # ヒストグラム\n",
    "plt.boxplot()   # 箱ひげ図\n",
    "plt.pie()       # 円グラフ\n",
    "plt.imshow()    # 画像・ヒートマップ\n",
    "plt.contour()   # 等高線\n",
    "plt.step()      # ステップグラフ\n",
    "\n",
    "\"\"\""
   ]
  },
  {
   "cell_type": "markdown",
   "metadata": {},
   "source": [
    "# グラフの基本設定"
   ]
  },
  {
   "cell_type": "code",
   "execution_count": null,
   "metadata": {},
   "outputs": [],
   "source": [
    "\"\"\"\n",
    "\n",
    "# タイトルと軸ラベル\n",
    "plt.title('タイトル')    # グラフタイトル\n",
    "plt.xlabel('x軸ラベル')  # x軸ラベル\n",
    "plt.ylabel('y軸ラベル')  # y軸ラベル\n",
    "\n",
    "# 軸の範囲設定\n",
    "plt.xlim([xmin, xmax])  # x軸の範囲\n",
    "plt.ylim([ymin, ymax])  # y軸の範囲\n",
    "\n",
    "# グリッド\n",
    "plt.grid(True)  # グリッド線の表示\n",
    "\n",
    "# 凡例\n",
    "plt.legend()    # 凡例の表示\n",
    "\n",
    "# 凡例の主な位置指定オプション\n",
    "plt.legend(loc='位置')\n",
    "'best'          # 最適な位置（デフォルト）\n",
    "'upper right'   # 右上\n",
    "'upper left'    # 左上\n",
    "'lower right'   # 右下\n",
    "'lower left'    # 左下\n",
    "'center'        # 中央\n",
    "'center left'   # 左中央\n",
    "'center right'  # 右中央\n",
    "'lower center'  # 下中央\n",
    "'upper center'  # 上中央\n",
    "\n",
    "\"\"\""
   ]
  },
  {
   "cell_type": "markdown",
   "metadata": {},
   "source": [
    "# プロットのスタイルオプション"
   ]
  },
  {
   "cell_type": "code",
   "execution_count": null,
   "metadata": {},
   "outputs": [],
   "source": [
    "\"\"\"\n",
    "\n",
    "# 線のスタイル (linestyle, ls)\n",
    "'-'    # 実線\n",
    "'--'   # 破線\n",
    "'-.'   # 一点鎖線\n",
    "':'    # 点線\n",
    "\n",
    "# マーカーのスタイル (marker)\n",
    "'o'    # 丸\n",
    "'s'    # 四角\n",
    "'^'    # 三角（上向き）\n",
    "'v'    # 三角（下向き）\n",
    "'+'    # プラス\n",
    "'x'    # バツ印\n",
    "\n",
    "# 色の指定 (color, c)\n",
    "'r'    # 赤\n",
    "'g'    # 緑\n",
    "'b'    # 青\n",
    "'k'    # 黒\n",
    "'w'    # 白\n",
    "'#FF0000'  # 16進数カラーコード\n",
    "\n",
    "# その他のパラメータ\n",
    "alpha      # 透明度 (0-1)\n",
    "linewidth  # 線の太さ\n",
    "markersize # マーカーのサイズ\n",
    "\n",
    "\"\"\""
   ]
  },
  {
   "cell_type": "markdown",
   "metadata": {},
   "source": [
    "# サブプロット（複数グラフ）"
   ]
  },
  {
   "cell_type": "code",
   "execution_count": null,
   "metadata": {},
   "outputs": [],
   "source": [
    "\"\"\"\n",
    "\n",
    "# サブプロットの作成\n",
    "fig, axes = plt.subplots(行数, 列数, figsize=(幅, 高さ))\n",
    "\n",
    "# 個別のサブプロットへのアクセス\n",
    "axes[0, 0].plot()  # 1行1列目のプロット\n",
    "axes[0, 1].scatter()  # 1行2列目のプロット\n",
    "\n",
    "\"\"\""
   ]
  },
  {
   "cell_type": "markdown",
   "metadata": {},
   "source": [
    "# グラフのカスタマイズオプション"
   ]
  },
  {
   "cell_type": "code",
   "execution_count": null,
   "metadata": {},
   "outputs": [],
   "source": [
    "\"\"\"\n",
    "\n",
    "# フィギュアサイズ\n",
    "plt.figure(figsize=(幅, 高さ))\n",
    "\n",
    "# フォントサイズ設定\n",
    "plt.rcParams['font.size'] = 12\n",
    "\n",
    "# 目盛りの設定\n",
    "plt.xticks([位置], [ラベル])\n",
    "plt.yticks([位置], [ラベル])\n",
    "\n",
    "# レイアウト調整\n",
    "plt.tight_layout()\n",
    "\n",
    "\"\"\""
   ]
  },
  {
   "cell_type": "markdown",
   "metadata": {},
   "source": [
    "# グラフの保存と表示"
   ]
  },
  {
   "cell_type": "code",
   "execution_count": null,
   "metadata": {},
   "outputs": [],
   "source": [
    "\"\"\"\n",
    "\n",
    "# グラフの保存\n",
    "plt.savefig('filename.png', dpi=300, bbox_inches='tight')\n",
    "\n",
    "# グラフの表示\n",
    "plt.show()\n",
    "\n",
    "# 現在のプロットをクリア\n",
    "plt.clf()  # 現在の図をクリア\n",
    "plt.cla()  # 現在の軸をクリア\n",
    "plt.close()  # ウィンドウを閉じる\n",
    "\n",
    "\"\"\""
   ]
  },
  {
   "cell_type": "markdown",
   "metadata": {},
   "source": [
    "# よく使う組み合わせ例"
   ]
  },
  {
   "cell_type": "code",
   "execution_count": null,
   "metadata": {},
   "outputs": [],
   "source": [
    "\"\"\"\n",
    "\n",
    "# 基本的な線グラフ\n",
    "plt.plot(x, y, \n",
    "         color='blue',          # 線の色\n",
    "         linestyle='--',        # 線のスタイル\n",
    "         linewidth=2,           # 線の太さ\n",
    "         marker='o',           # マーカー\n",
    "         markersize=8,         # マーカーサイズ\n",
    "         label='データ1',      # 凡例ラベル\n",
    "         alpha=0.5)            # 透明度\n",
    "\n",
    "# 散布図\n",
    "plt.scatter(x, y,\n",
    "           c=colors,           # 点の色\n",
    "           s=sizes,            # 点のサイズ\n",
    "           alpha=0.6,          # 透明度\n",
    "           cmap='viridis',     # カラーマップ\n",
    "           label='データ点')\n",
    "           \n",
    "\"\"\""
   ]
  },
  {
   "cell_type": "markdown",
   "metadata": {},
   "source": [
    "# グラフの種類別オプション"
   ]
  },
  {
   "cell_type": "code",
   "execution_count": null,
   "metadata": {},
   "outputs": [],
   "source": [
    "\"\"\"\n",
    "\n",
    "# 棒グラフのオプション\n",
    "plt.bar(x, height,\n",
    "        width=0.8,     # バーの幅\n",
    "        bottom=0,      # 積み上げグラフの基準\n",
    "        align='center' # バーの位置調整\n",
    ")\n",
    "\n",
    "# ヒストグラムのオプション\n",
    "plt.hist(x,\n",
    "         bins=10,      # ビンの数\n",
    "         range=(0,1),  # 範囲\n",
    "         density=True  # 密度表示\n",
    ")\n",
    "\n",
    "# 箱ひげ図のオプション\n",
    "plt.boxplot(data,\n",
    "           notch=True,    # ノッチの表示\n",
    "           vert=True,     # 垂直表示\n",
    "           whis=1.5       # ひげの長さ\n",
    ")\n",
    "\n",
    "\"\"\""
   ]
  },
  {
   "cell_type": "markdown",
   "metadata": {},
   "source": [
    "# カラーマップ"
   ]
  },
  {
   "cell_type": "code",
   "execution_count": null,
   "metadata": {},
   "outputs": [],
   "source": [
    "\"\"\"\n",
    "\n",
    "# よく使用されるカラーマップ\n",
    "'viridis'   # デフォルト\n",
    "'plasma'    # 連続的な色変化\n",
    "'magma'     # 暗い色から明るい色\n",
    "'inferno'   # 火の色\n",
    "'coolwarm'  # 寒色から暖色\n",
    "'RdYlBu'    # 赤-黄-青\n",
    "\n",
    "\"\"\""
   ]
  }
 ],
 "metadata": {
  "kernelspec": {
   "display_name": "Python 3",
   "language": "python",
   "name": "python3"
  },
  "language_info": {
   "codemirror_mode": {
    "name": "ipython",
    "version": 3
   },
   "file_extension": ".py",
   "mimetype": "text/x-python",
   "name": "python",
   "nbconvert_exporter": "python",
   "pygments_lexer": "ipython3",
   "version": "3.10.12"
  }
 },
 "nbformat": 4,
 "nbformat_minor": 2
}
