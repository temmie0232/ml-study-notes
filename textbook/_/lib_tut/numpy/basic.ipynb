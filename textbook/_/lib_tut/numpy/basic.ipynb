{
 "cells": [
  {
   "cell_type": "code",
   "execution_count": null,
   "metadata": {},
   "outputs": [],
   "source": [
    "import numpy as np"
   ]
  },
  {
   "cell_type": "markdown",
   "metadata": {},
   "source": [
    "---\n",
    "# 基本的な配列操作"
   ]
  },
  {
   "cell_type": "markdown",
   "metadata": {},
   "source": [
    "## 配列の作成"
   ]
  },
  {
   "cell_type": "code",
   "execution_count": null,
   "metadata": {},
   "outputs": [],
   "source": [
    "# 基本的な配列作成\n",
    "arr1 = np.array([1, 2, 3, 4, 5])               # リストから配列作成\n",
    "arr2 = np.zeros((3, 4))                        # 0で初期化された配列\n",
    "arr3 = np.ones((3, 4))                         # 1で初期化された配列\n",
    "arr4 = np.empty((3, 4))                        # 未初期化配列\n",
    "arr5 = np.arange(10)                           # 0から9までの配列\n",
    "arr6 = np.linspace(0, 1, 5)                    # 0から1までを5等分\n",
    "\n",
    "# 特殊な配列\n",
    "eye = np.eye(3)                                # 3x3の単位行列\n",
    "diag = np.diag([1, 2, 3])"
   ]
  },
  {
   "cell_type": "markdown",
   "metadata": {},
   "source": [
    "## ランダムな値の生成"
   ]
  },
  {
   "cell_type": "code",
   "execution_count": null,
   "metadata": {},
   "outputs": [],
   "source": [
    "random_normal = np.random.normal(0, 1, (100, 2))    # 正規分布\n",
    "random_uniform = np.random.uniform(0, 1, (100, 2))  # 一様分布\n",
    "random_integers = np.random.randint(0, 10, (5, 5))  # ランダムな整数"
   ]
  },
  {
   "cell_type": "markdown",
   "metadata": {},
   "source": [
    "## 配列の基本情報"
   ]
  },
  {
   "cell_type": "code",
   "execution_count": null,
   "metadata": {},
   "outputs": [],
   "source": [
    "print(arr1.shape)                              # 形状\n",
    "print(arr1.dtype)                              # データ型\n",
    "print(arr1.size)                               # 要素数\n",
    "print(arr1.ndim)                               # 次元数\n",
    "\n",
    "arr = np.array([1, 1, 2, 3, 2, 1, 4])\n",
    "counts = np.bincount(arr)\n",
    "print(\"元の配列:\", arr)\n",
    "print(\"カウント結果:\", counts)\n",
    "print(\"インデックス:\", np.arange(len(counts)))\n",
    "\n",
    "# 出力:\n",
    "# 元の配列: [1 1 2 3 2 1 4]\n",
    "# カウント結果: [0 3 2 1 1]\n",
    "# インデックス: [0 1 2 3 4]\n",
    "# → 0は0回、1は3回、2は2回、3は1回、4は1回出現"
   ]
  },
  {
   "cell_type": "markdown",
   "metadata": {},
   "source": [
    "---\n",
    "# 配列の操作と変形"
   ]
  },
  {
   "cell_type": "markdown",
   "metadata": {},
   "source": [
    "## スライシングと要素アクセス"
   ]
  },
  {
   "cell_type": "code",
   "execution_count": null,
   "metadata": {},
   "outputs": [],
   "source": [
    "arr = np.array([[1, 2, 3], [4, 5, 6]])\n",
    "print(arr[0, 1])                               # 特定要素へのアクセス\n",
    "print(arr[:, 1])                               # 列の取得\n",
    "print(arr[0, :])                               # 行の取得"
   ]
  },
  {
   "cell_type": "markdown",
   "metadata": {},
   "source": [
    "## 配列の変形"
   ]
  },
  {
   "cell_type": "code",
   "execution_count": null,
   "metadata": {},
   "outputs": [],
   "source": [
    "arr = np.arange(12)\n",
    "reshaped = arr.reshape(3, 4)                   # 3x4に変形\n",
    "flattened = arr.flatten()                      # 1次元に平坦化\n",
    "transposed = arr.reshape(3, 4).T               # 転置"
   ]
  },
  {
   "cell_type": "markdown",
   "metadata": {},
   "source": [
    "## 配列の結合"
   ]
  },
  {
   "cell_type": "code",
   "execution_count": null,
   "metadata": {},
   "outputs": [],
   "source": [
    "arr1 = np.array([[1, 2], [3, 4]])\n",
    "arr2 = np.array([[5, 6], [7, 8]])\n",
    "vertical = np.vstack((arr1, arr2))             # 垂直方向の結合\n",
    "horizontal = np.hstack((arr1, arr2))           # 水平方向の結合\n",
    "concatenated = np.concatenate((arr1, arr2))    # 結合"
   ]
  },
  {
   "cell_type": "markdown",
   "metadata": {},
   "source": [
    "## 配列の分割"
   ]
  },
  {
   "cell_type": "code",
   "execution_count": null,
   "metadata": {},
   "outputs": [],
   "source": [
    "split_arr = np.split(arr, 3)                   # 3つに分割\n",
    "hsplit = np.hsplit(arr, 2)                     # 水平方向に分割\n",
    "vsplit = np.vsplit(arr, 2)                     # 垂直方向に分割"
   ]
  },
  {
   "cell_type": "markdown",
   "metadata": {},
   "source": [
    "---\n",
    "# 数学的操作"
   ]
  },
  {
   "cell_type": "markdown",
   "metadata": {},
   "source": [
    "## 基本的な演算"
   ]
  },
  {
   "cell_type": "code",
   "execution_count": null,
   "metadata": {},
   "outputs": [],
   "source": [
    "arr = np.array([1, 2, 3, 4])\n",
    "print(arr + 2)                                 # 各要素に2を加算\n",
    "print(arr * 2)                                 # 各要素を2倍\n",
    "print(arr ** 2)                                # 各要素を2乗"
   ]
  },
  {
   "cell_type": "markdown",
   "metadata": {},
   "source": [
    "## 統計演算"
   ]
  },
  {
   "cell_type": "code",
   "execution_count": null,
   "metadata": {},
   "outputs": [],
   "source": [
    "print(np.mean(arr))                            # 平均\n",
    "print(np.median(arr))                          # 中央値\n",
    "print(np.std(arr))                             # 標準偏差\n",
    "print(np.var(arr))                             # 分散\n",
    "print(np.min(arr))                             # 最小値\n",
    "print(np.max(arr))                             # 最大値\n",
    "print(np.sum(arr))                             # 合計\n",
    "print(np.prod(arr))                            # 積"
   ]
  },
  {
   "cell_type": "markdown",
   "metadata": {},
   "source": [
    "## 線形代数演算"
   ]
  },
  {
   "cell_type": "code",
   "execution_count": null,
   "metadata": {},
   "outputs": [],
   "source": [
    "a = np.array([[1, 2], [3, 4]])\n",
    "b = np.array([[5, 6], [7, 8]])\n",
    "print(np.dot(a, b))                            # 行列積\n",
    "print(np.linalg.inv(a))                        # 逆行列\n",
    "print(np.linalg.det(a))                        # 行列式\n",
    "eigenvalues = np.linalg.eigvals(a)             # 固有値"
   ]
  },
  {
   "cell_type": "markdown",
   "metadata": {},
   "source": [
    "---\n",
    "# 機械学習のための操作"
   ]
  },
  {
   "cell_type": "markdown",
   "metadata": {},
   "source": [
    "## データの正規化"
   ]
  },
  {
   "cell_type": "code",
   "execution_count": null,
   "metadata": {},
   "outputs": [],
   "source": [
    "data = np.array([[1, 2], [3, 4], [5, 6]])\n",
    "normalized = (data - np.mean(data, axis=0)) / np.std(data, axis=0)"
   ]
  },
  {
   "cell_type": "markdown",
   "metadata": {},
   "source": [
    "## マスキング操作"
   ]
  },
  {
   "cell_type": "code",
   "execution_count": null,
   "metadata": {},
   "outputs": [],
   "source": [
    "data = np.array([1, 2, 3, 4, 5])\n",
    "mask = data > 3\n",
    "filtered_data = data[mask]                          # 条件に合う要素の抽出"
   ]
  },
  {
   "cell_type": "markdown",
   "metadata": {},
   "source": [
    "## 次元の追加と削除"
   ]
  },
  {
   "cell_type": "code",
   "execution_count": null,
   "metadata": {},
   "outputs": [],
   "source": [
    "data = np.array([1, 2, 3])\n",
    "expanded = np.expand_dims(data, axis=0)             # 次元の追加\n",
    "squeezed = np.squeeze(expanded)                     # 次元の削除"
   ]
  },
  {
   "cell_type": "markdown",
   "metadata": {},
   "source": [
    "---\n",
    "# 高度な操作"
   ]
  },
  {
   "cell_type": "markdown",
   "metadata": {},
   "source": [
    "## ブロードキャスト"
   ]
  },
  {
   "cell_type": "code",
   "execution_count": null,
   "metadata": {},
   "outputs": [],
   "source": [
    "arr1 = np.array([[1, 2, 3], [4, 5, 6]])\n",
    "arr2 = np.array([10, 20, 30])\n",
    "result = arr1 + arr2                               # 自動的にブロードキャスト"
   ]
  },
  {
   "cell_type": "markdown",
   "metadata": {},
   "source": [
    "## ユニバーサル関数"
   ]
  },
  {
   "cell_type": "code",
   "execution_count": null,
   "metadata": {},
   "outputs": [],
   "source": [
    "arr = np.array([1, 2, 3, 4])\n",
    "print(np.sqrt(arr))                                # 平方根\n",
    "print(np.exp(arr))                                 # 指数\n",
    "print(np.log(arr))                                 # 自然対数\n",
    "print(np.sin(arr))                                 # サイン"
   ]
  },
  {
   "cell_type": "markdown",
   "metadata": {},
   "source": [
    "## 集約関数"
   ]
  },
  {
   "cell_type": "code",
   "execution_count": null,
   "metadata": {},
   "outputs": [],
   "source": [
    "data = np.array([[1, 2], [3, 4], [5, 6]])\n",
    "print(np.sum(data, axis=0))                        # 列方向の合計\n",
    "print(np.mean(data, axis=1))                       # 行方向の平均\n",
    "print(np.cumsum(data))                             # 累積和\n",
    "print(np.cumprod(data))                            # 累積積"
   ]
  },
  {
   "cell_type": "markdown",
   "metadata": {},
   "source": [
    "---\n",
    "# 応用"
   ]
  },
  {
   "cell_type": "code",
   "execution_count": null,
   "metadata": {},
   "outputs": [],
   "source": [
    "### 特徴量の標準化\n",
    "def standardize(X):\n",
    "    \"\"\"特徴量の標準化\"\"\"\n",
    "    mean = np.mean(X, axis=0)\n",
    "    std = np.std(X, axis=0)\n",
    "    return (X - mean) / std\n",
    "\n"
   ]
  },
  {
   "cell_type": "code",
   "execution_count": null,
   "metadata": {},
   "outputs": [],
   "source": [
    "### 主成分分析（PCA）の実装例\n",
    "def simple_pca(X, n_components):\n",
    "    \"\"\"簡単なPCAの実装\"\"\"\n",
    "    # 平均を引く\n",
    "    X_centered = X - np.mean(X, axis=0)\n",
    "    \n",
    "    # 共分散行列の計算\n",
    "    cov_matrix = np.dot(X_centered.T, X_centered) / X_centered.shape[0]\n",
    "    \n",
    "    # 固有値と固有ベクトルの計算\n",
    "    eigenvalues, eigenvectors = np.linalg.eigh(cov_matrix)\n",
    "    \n",
    "    # 上位n_components個の固有ベクトルを選択\n",
    "    indices = np.argsort(eigenvalues)[::-1][:n_components]\n",
    "    selected_eigenvectors = eigenvectors[:, indices]\n",
    "    \n",
    "    # データを変換\n",
    "    return np.dot(X_centered, selected_eigenvectors)\n",
    "\n",
    "### ミニバッチの生成\n",
    "def create_minibatches(X, batch_size):\n",
    "    \"\"\"データをミニバッチに分割\"\"\"\n",
    "    indices = np.random.permutation(len(X))\n",
    "    return np.array_split(X[indices], len(X) // batch_size)"
   ]
  },
  {
   "cell_type": "code",
   "execution_count": null,
   "metadata": {},
   "outputs": [],
   "source": [
    "### 欠損値の処理\n",
    "def handle_missing(X):\n",
    "    \"\"\"欠損値を平均値で補完\"\"\"\n",
    "    mean_vals = np.nanmean(X, axis=0)\n",
    "    mask = np.isnan(X)\n",
    "    X[mask] = np.take(mean_vals, np.where(mask)[1])\n",
    "    return X\n",
    "\n",
    "### One-hot エンコーディング\n",
    "def one_hot_encode(labels, num_classes):\n",
    "    \"\"\"ラベルのOne-hotエンコーディング\"\"\"\n",
    "    return np.eye(num_classes)[labels]\n",
    "\n",
    "### データの正規化\n",
    "def normalize_data(X):\n",
    "    \"\"\"データを0-1の範囲に正規化\"\"\"\n",
    "    return (X - X.min(axis=0)) / (X.max(axis=0) - X.min(axis=0))"
   ]
  },
  {
   "cell_type": "code",
   "execution_count": null,
   "metadata": {},
   "outputs": [],
   "source": [
    "### ベクトル化された操作\n",
    "# 遅い方法（ループ使用）\n",
    "def slow_distance(x1, x2):\n",
    "    n = len(x1)\n",
    "    result = 0\n",
    "    for i in range(n):\n",
    "        result += (x1[i] - x2[i]) ** 2\n",
    "    return np.sqrt(result)\n",
    "\n",
    "# 速い方法（ベクトル化）\n",
    "def fast_distance(x1, x2):\n",
    "    return np.sqrt(np.sum((x1 - x2) ** 2))\n",
    "\n",
    "### メモリ効率の良い操作\n",
    "# 大きな配列の効率的な処理\n",
    "def process_large_array(filename, chunk_size):\n",
    "    \"\"\"大きな配列を分割して処理\"\"\"\n",
    "    with np.load(filename) as data:\n",
    "        for chunk in np.array_split(data, len(data) // chunk_size):\n",
    "            # chunkの処理\n",
    "            process_chunk(chunk)"
   ]
  }
 ],
 "metadata": {
  "kernelspec": {
   "display_name": "Python 3",
   "language": "python",
   "name": "python3"
  },
  "language_info": {
   "codemirror_mode": {
    "name": "ipython",
    "version": 3
   },
   "file_extension": ".py",
   "mimetype": "text/x-python",
   "name": "python",
   "nbconvert_exporter": "python",
   "pygments_lexer": "ipython3",
   "version": "3.10.12"
  }
 },
 "nbformat": 4,
 "nbformat_minor": 2
}
